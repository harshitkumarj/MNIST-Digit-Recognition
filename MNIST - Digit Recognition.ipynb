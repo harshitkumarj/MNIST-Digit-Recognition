{
 "cells": [
  {
   "cell_type": "markdown",
   "metadata": {
    "toc": true
   },
   "source": [
    "<h1>Table of Contents<span class=\"tocSkip\"></span></h1>\n",
    "<div class=\"toc\"><ul class=\"toc-item\"><li><span><a href=\"#Problem-Statement\" data-toc-modified-id=\"Problem-Statement-1\"><span class=\"toc-item-num\">1&nbsp;&nbsp;</span>Problem Statement</a></span></li><li><span><a href=\"#Data-Source\" data-toc-modified-id=\"Data-Source-2\"><span class=\"toc-item-num\">2&nbsp;&nbsp;</span>Data Source</a></span></li><li><span><a href=\"#Importing-the-libraries\" data-toc-modified-id=\"Importing-the-libraries-3\"><span class=\"toc-item-num\">3&nbsp;&nbsp;</span>Importing the libraries</a></span></li><li><span><a href=\"#Importing-the-Dataset\" data-toc-modified-id=\"Importing-the-Dataset-4\"><span class=\"toc-item-num\">4&nbsp;&nbsp;</span>Importing the Dataset</a></span><ul class=\"toc-item\"><li><span><a href=\"#Dataset-Info\" data-toc-modified-id=\"Dataset-Info-4.1\"><span class=\"toc-item-num\">4.1&nbsp;&nbsp;</span>Dataset Info</a></span></li><li><span><a href=\"#Loading-train-images\" data-toc-modified-id=\"Loading-train-images-4.2\"><span class=\"toc-item-num\">4.2&nbsp;&nbsp;</span>Loading train images</a></span></li><li><span><a href=\"#Loading-test-images\" data-toc-modified-id=\"Loading-test-images-4.3\"><span class=\"toc-item-num\">4.3&nbsp;&nbsp;</span>Loading test images</a></span></li></ul></li><li><span><a href=\"#Exploratory-Data-Analysis\" data-toc-modified-id=\"Exploratory-Data-Analysis-5\"><span class=\"toc-item-num\">5&nbsp;&nbsp;</span>Exploratory Data Analysis</a></span><ul class=\"toc-item\"><li><span><a href=\"#Countplot\" data-toc-modified-id=\"Countplot-5.1\"><span class=\"toc-item-num\">5.1&nbsp;&nbsp;</span>Countplot</a></span></li><li><span><a href=\"#View-the-images-in-the-dataset\" data-toc-modified-id=\"View-the-images-in-the-dataset-5.2\"><span class=\"toc-item-num\">5.2&nbsp;&nbsp;</span>View the images in the dataset</a></span></li></ul></li><li><span><a href=\"#Model-Building\" data-toc-modified-id=\"Model-Building-6\"><span class=\"toc-item-num\">6&nbsp;&nbsp;</span>Model Building</a></span><ul class=\"toc-item\"><li><span><a href=\"#Evaluating-the-model-performance\" data-toc-modified-id=\"Evaluating-the-model-performance-6.1\"><span class=\"toc-item-num\">6.1&nbsp;&nbsp;</span>Evaluating the model performance</a></span><ul class=\"toc-item\"><li><span><a href=\"#Plotting-the-loss-and-accuracy-curves-for-training-and-validation\" data-toc-modified-id=\"Plotting-the-loss-and-accuracy-curves-for-training-and-validation-6.1.1\"><span class=\"toc-item-num\">6.1.1&nbsp;&nbsp;</span>Plotting the loss and accuracy curves for training and validation</a></span></li><li><span><a href=\"#Plotting-the-Confusion-Matrix\" data-toc-modified-id=\"Plotting-the-Confusion-Matrix-6.1.2\"><span class=\"toc-item-num\">6.1.2&nbsp;&nbsp;</span>Plotting the Confusion Matrix</a></span></li></ul></li><li><span><a href=\"#Predicting-the-test-data\" data-toc-modified-id=\"Predicting-the-test-data-6.2\"><span class=\"toc-item-num\">6.2&nbsp;&nbsp;</span>Predicting the test data</a></span></li></ul></li></ul></div>"
   ]
  },
  {
   "cell_type": "markdown",
   "metadata": {},
   "source": [
    "# Problem Statement"
   ]
  },
  {
   "cell_type": "markdown",
   "metadata": {},
   "source": [
    "**Can you predict the handwritten digits using machines?**"
   ]
  },
  {
   "cell_type": "markdown",
   "metadata": {},
   "source": [
    "The goal of this project is to create a model that will be able to recognize and determine the handwritten digits from its image by using the concepts of Convolution Neural Network. The major goal of the proposed system is understanding Convolutional Neural Network, and applying it to the handwritten recognition system."
   ]
  },
  {
   "cell_type": "markdown",
   "metadata": {},
   "source": [
    "# Data Source"
   ]
  },
  {
   "cell_type": "markdown",
   "metadata": {},
   "source": [
    "Kaggle - https://www.kaggle.com/c/digit-recognizer/data"
   ]
  },
  {
   "cell_type": "markdown",
   "metadata": {},
   "source": [
    "# Importing the libraries"
   ]
  },
  {
   "cell_type": "code",
   "execution_count": 1,
   "metadata": {},
   "outputs": [],
   "source": [
    "import pandas as pd\n",
    "import numpy as np\n",
    "from tqdm import tqdm\n",
    "\n",
    "# for reading and displaying images\n",
    "from skimage.io import imread\n",
    "from skimage.transform import resize\n",
    "import matplotlib.pyplot as plt\n",
    "import seaborn as sns\n",
    "%matplotlib inline\n",
    "\n",
    "# for creating validation set\n",
    "from sklearn.model_selection import train_test_split\n",
    "\n",
    "# for evaluating the model\n",
    "from sklearn.metrics import accuracy_score"
   ]
  },
  {
   "cell_type": "markdown",
   "metadata": {},
   "source": [
    "# Importing the Dataset"
   ]
  },
  {
   "cell_type": "code",
   "execution_count": 2,
   "metadata": {},
   "outputs": [],
   "source": [
    "train=pd.read_csv(\"C:/Users/TheSurpriseBox/Desktop/MNIST/train.csv\")\n",
    "test=pd.read_csv(\"C:/Users/TheSurpriseBox/Desktop/MNIST/test.csv\")\n",
    "train_path=\"C:/Users/TheSurpriseBox/Desktop/MNIST/Images/train/\"\n",
    "test_path=\"C:/Users/TheSurpriseBox/Desktop/MNIST/Images/test/\""
   ]
  },
  {
   "cell_type": "markdown",
   "metadata": {},
   "source": [
    "## Dataset Info"
   ]
  },
  {
   "cell_type": "code",
   "execution_count": 3,
   "metadata": {},
   "outputs": [
    {
     "data": {
      "text/html": [
       "<div>\n",
       "<style scoped>\n",
       "    .dataframe tbody tr th:only-of-type {\n",
       "        vertical-align: middle;\n",
       "    }\n",
       "\n",
       "    .dataframe tbody tr th {\n",
       "        vertical-align: top;\n",
       "    }\n",
       "\n",
       "    .dataframe thead th {\n",
       "        text-align: right;\n",
       "    }\n",
       "</style>\n",
       "<table border=\"1\" class=\"dataframe\">\n",
       "  <thead>\n",
       "    <tr style=\"text-align: right;\">\n",
       "      <th></th>\n",
       "      <th>filename</th>\n",
       "      <th>label</th>\n",
       "    </tr>\n",
       "  </thead>\n",
       "  <tbody>\n",
       "    <tr>\n",
       "      <th>0</th>\n",
       "      <td>0.png</td>\n",
       "      <td>4</td>\n",
       "    </tr>\n",
       "    <tr>\n",
       "      <th>1</th>\n",
       "      <td>1.png</td>\n",
       "      <td>9</td>\n",
       "    </tr>\n",
       "    <tr>\n",
       "      <th>2</th>\n",
       "      <td>2.png</td>\n",
       "      <td>1</td>\n",
       "    </tr>\n",
       "    <tr>\n",
       "      <th>3</th>\n",
       "      <td>3.png</td>\n",
       "      <td>7</td>\n",
       "    </tr>\n",
       "    <tr>\n",
       "      <th>4</th>\n",
       "      <td>4.png</td>\n",
       "      <td>3</td>\n",
       "    </tr>\n",
       "  </tbody>\n",
       "</table>\n",
       "</div>"
      ],
      "text/plain": [
       "  filename  label\n",
       "0    0.png      4\n",
       "1    1.png      9\n",
       "2    2.png      1\n",
       "3    3.png      7\n",
       "4    4.png      3"
      ]
     },
     "execution_count": 3,
     "metadata": {},
     "output_type": "execute_result"
    }
   ],
   "source": [
    "train.head()"
   ]
  },
  {
   "cell_type": "code",
   "execution_count": 4,
   "metadata": {},
   "outputs": [
    {
     "name": "stdout",
     "output_type": "stream",
     "text": [
      "<class 'pandas.core.frame.DataFrame'>\n",
      "RangeIndex: 49000 entries, 0 to 48999\n",
      "Data columns (total 2 columns):\n",
      " #   Column    Non-Null Count  Dtype \n",
      "---  ------    --------------  ----- \n",
      " 0   filename  49000 non-null  object\n",
      " 1   label     49000 non-null  int64 \n",
      "dtypes: int64(1), object(1)\n",
      "memory usage: 765.8+ KB\n"
     ]
    }
   ],
   "source": [
    "train.info()"
   ]
  },
  {
   "cell_type": "code",
   "execution_count": 5,
   "metadata": {},
   "outputs": [
    {
     "data": {
      "text/html": [
       "<div>\n",
       "<style scoped>\n",
       "    .dataframe tbody tr th:only-of-type {\n",
       "        vertical-align: middle;\n",
       "    }\n",
       "\n",
       "    .dataframe tbody tr th {\n",
       "        vertical-align: top;\n",
       "    }\n",
       "\n",
       "    .dataframe thead th {\n",
       "        text-align: right;\n",
       "    }\n",
       "</style>\n",
       "<table border=\"1\" class=\"dataframe\">\n",
       "  <thead>\n",
       "    <tr style=\"text-align: right;\">\n",
       "      <th></th>\n",
       "      <th>filename</th>\n",
       "    </tr>\n",
       "  </thead>\n",
       "  <tbody>\n",
       "    <tr>\n",
       "      <th>0</th>\n",
       "      <td>49000.png</td>\n",
       "    </tr>\n",
       "    <tr>\n",
       "      <th>1</th>\n",
       "      <td>49001.png</td>\n",
       "    </tr>\n",
       "    <tr>\n",
       "      <th>2</th>\n",
       "      <td>49002.png</td>\n",
       "    </tr>\n",
       "    <tr>\n",
       "      <th>3</th>\n",
       "      <td>49003.png</td>\n",
       "    </tr>\n",
       "    <tr>\n",
       "      <th>4</th>\n",
       "      <td>49004.png</td>\n",
       "    </tr>\n",
       "  </tbody>\n",
       "</table>\n",
       "</div>"
      ],
      "text/plain": [
       "    filename\n",
       "0  49000.png\n",
       "1  49001.png\n",
       "2  49002.png\n",
       "3  49003.png\n",
       "4  49004.png"
      ]
     },
     "execution_count": 5,
     "metadata": {},
     "output_type": "execute_result"
    }
   ],
   "source": [
    "test.head()"
   ]
  },
  {
   "cell_type": "code",
   "execution_count": 6,
   "metadata": {},
   "outputs": [
    {
     "name": "stdout",
     "output_type": "stream",
     "text": [
      "<class 'pandas.core.frame.DataFrame'>\n",
      "RangeIndex: 21000 entries, 0 to 20999\n",
      "Data columns (total 1 columns):\n",
      " #   Column    Non-Null Count  Dtype \n",
      "---  ------    --------------  ----- \n",
      " 0   filename  21000 non-null  object\n",
      "dtypes: object(1)\n",
      "memory usage: 164.2+ KB\n"
     ]
    }
   ],
   "source": [
    "test.info()"
   ]
  },
  {
   "cell_type": "markdown",
   "metadata": {},
   "source": [
    "## Loading train images"
   ]
  },
  {
   "cell_type": "code",
   "execution_count": 7,
   "metadata": {},
   "outputs": [
    {
     "name": "stderr",
     "output_type": "stream",
     "text": [
      "100%|███████████████████████████████████████████████████████████████████████████| 49000/49000 [02:01<00:00, 404.44it/s]\n"
     ]
    },
    {
     "data": {
      "text/plain": [
       "(49000, 28, 28, 1)"
      ]
     },
     "execution_count": 7,
     "metadata": {},
     "output_type": "execute_result"
    }
   ],
   "source": [
    "train_img = []\n",
    "for img_name in tqdm(train['filename']):\n",
    "    # defining the image path\n",
    "    image_path = train_path + img_name\n",
    "    # reading the image\n",
    "    img = imread(image_path)\n",
    "    # normalizing the pixel values\n",
    "    img = img/255\n",
    "    # resizing the image to (28,28,1)\n",
    "    img = resize(img, output_shape=(28,28,1), mode='constant', anti_aliasing=True)\n",
    "    # converting the type of pixel to float 32\n",
    "    img = img.astype('float32')\n",
    "    # appending the image into the list\n",
    "    train_img.append(img)\n",
    "\n",
    "# converting the list to numpy array\n",
    "train_x = np.array(train_img)\n",
    "train_x.shape"
   ]
  },
  {
   "cell_type": "markdown",
   "metadata": {},
   "source": [
    "## Loading test images"
   ]
  },
  {
   "cell_type": "code",
   "execution_count": 8,
   "metadata": {},
   "outputs": [
    {
     "name": "stderr",
     "output_type": "stream",
     "text": [
      "100%|███████████████████████████████████████████████████████████████████████████| 21000/21000 [00:57<00:00, 364.44it/s]\n"
     ]
    },
    {
     "data": {
      "text/plain": [
       "(21000, 28, 28, 1)"
      ]
     },
     "execution_count": 8,
     "metadata": {},
     "output_type": "execute_result"
    }
   ],
   "source": [
    "test_img = []\n",
    "for img_name in tqdm(test['filename']):\n",
    "    # defining the image path\n",
    "    image_path = test_path + img_name\n",
    "    # reading the image\n",
    "    img = imread(image_path)\n",
    "    # normalizing the pixel values\n",
    "    img = img/255\n",
    "    # resizing the image to (28,28,1)\n",
    "    img = resize(img, output_shape=(28,28,1), mode='constant', anti_aliasing=True)\n",
    "    # converting the type of pixel to float 32\n",
    "    img = img.astype('float32')\n",
    "    # appending the image into the list\n",
    "    test_img.append(img)\n",
    "\n",
    "# converting the list to numpy array\n",
    "test_x = np.array(test_img)\n",
    "test_x.shape"
   ]
  },
  {
   "cell_type": "markdown",
   "metadata": {},
   "source": [
    "Saving the loaded image data in the form of numpy array files."
   ]
  },
  {
   "cell_type": "code",
   "execution_count": 9,
   "metadata": {},
   "outputs": [],
   "source": [
    "from numpy import save\n",
    "\n",
    "save('X_train.npy', train_x)\n",
    "save('X_test.npy', test_x)"
   ]
  },
  {
   "cell_type": "code",
   "execution_count": 10,
   "metadata": {},
   "outputs": [],
   "source": [
    "x_train = np.load('C:/Users/TheSurpriseBox/Desktop/MNIST/X_train.npy', allow_pickle=True)\n",
    "x_test = np.load('C:/Users/TheSurpriseBox/Desktop/MNIST/X_test.npy', allow_pickle=True)"
   ]
  },
  {
   "cell_type": "code",
   "execution_count": 11,
   "metadata": {},
   "outputs": [
    {
     "name": "stdout",
     "output_type": "stream",
     "text": [
      "(49000, 28, 28, 1)\n",
      "(21000, 28, 28, 1)\n"
     ]
    }
   ],
   "source": [
    "print(x_train.shape)\n",
    "print(x_test.shape)"
   ]
  },
  {
   "cell_type": "markdown",
   "metadata": {},
   "source": [
    "# Exploratory Data Analysis"
   ]
  },
  {
   "cell_type": "code",
   "execution_count": 12,
   "metadata": {},
   "outputs": [
    {
     "name": "stdout",
     "output_type": "stream",
     "text": [
      "\n",
      " Shape of the train dataset: (49000, 2)\n"
     ]
    }
   ],
   "source": [
    "print(\"\\n Shape of the train dataset:\", train.shape)"
   ]
  },
  {
   "cell_type": "code",
   "execution_count": 13,
   "metadata": {},
   "outputs": [
    {
     "name": "stdout",
     "output_type": "stream",
     "text": [
      "Series([], dtype: int64)\n"
     ]
    }
   ],
   "source": [
    "#NaN values in the train dataset ?\n",
    "nan = train.isnull().sum()\n",
    "print(nan[nan != 0])"
   ]
  },
  {
   "cell_type": "code",
   "execution_count": 14,
   "metadata": {},
   "outputs": [
    {
     "name": "stdout",
     "output_type": "stream",
     "text": [
      "\n",
      " Shape of the test dataset: (21000, 1)\n"
     ]
    }
   ],
   "source": [
    "print(\"\\n Shape of the test dataset:\", test.shape)"
   ]
  },
  {
   "cell_type": "code",
   "execution_count": 15,
   "metadata": {},
   "outputs": [
    {
     "name": "stdout",
     "output_type": "stream",
     "text": [
      "Series([], dtype: int64)\n"
     ]
    }
   ],
   "source": [
    "#NaN values in the test dataset ?\n",
    "nan = test.isnull().sum()\n",
    "print(nan[nan != 0])"
   ]
  },
  {
   "cell_type": "code",
   "execution_count": 16,
   "metadata": {},
   "outputs": [
    {
     "name": "stdout",
     "output_type": "stream",
     "text": [
      "(49000,)\n",
      "(49000, 10)\n",
      "[0. 0. 0. 0. 1. 0. 0. 0. 0. 0.]\n"
     ]
    }
   ],
   "source": [
    "y_train = train['label']\n",
    "from tensorflow.keras.utils import to_categorical\n",
    "print(y_train.shape)\n",
    "y_train = to_categorical(y_train, num_classes=10)\n",
    "print(y_train.shape)\n",
    "print(y_train[0])"
   ]
  },
  {
   "cell_type": "markdown",
   "metadata": {},
   "source": [
    "## Countplot\n",
    "To determine the count of each label in the train data."
   ]
  },
  {
   "cell_type": "code",
   "execution_count": 17,
   "metadata": {},
   "outputs": [
    {
     "data": {
      "image/png": "[encoded data removed]",
      "text/plain": [
       "<Figure size 432x288 with 1 Axes>"
      ]
     },
     "metadata": {
      "needs_background": "light"
     },
     "output_type": "display_data"
    }
   ],
   "source": [
    "sns.countplot(x=train['label'])\n",
    "plt.show()"
   ]
  },
  {
   "cell_type": "markdown",
   "metadata": {},
   "source": [
    "## View the images in the dataset"
   ]
  },
  {
   "cell_type": "code",
   "execution_count": 18,
   "metadata": {},
   "outputs": [
    {
     "name": "stderr",
     "output_type": "stream",
     "text": [
      "100%|███████████████████████████████████████████████████████████████████████████| 49000/49000 [01:10<00:00, 699.36it/s]\n"
     ]
    }
   ],
   "source": [
    "train_images = []\n",
    "for img_name in tqdm(train['filename']):\n",
    "    image_path = train_path + img_name\n",
    "    img = imread(image_path)\n",
    "    train_images.append(img)"
   ]
  },
  {
   "cell_type": "code",
   "execution_count": 19,
   "metadata": {},
   "outputs": [
    {
     "data": {
      "image/png": "[encoded data removed]",
      "text/plain": [
       "<Figure size 1440x720 with 6 Axes>"
      ]
     },
     "metadata": {
      "needs_background": "light"
     },
     "output_type": "display_data"
    }
   ],
   "source": [
    "plt.figure(figsize=(20,10))\n",
    "for i in range(6):\n",
    "    plt.subplot(330+1+i)\n",
    "    plt.imshow(train_images[i])\n",
    "plt.show()"
   ]
  },
  {
   "cell_type": "markdown",
   "metadata": {},
   "source": [
    "# Model Building"
   ]
  },
  {
   "cell_type": "code",
   "execution_count": 20,
   "metadata": {},
   "outputs": [],
   "source": [
    "import tensorflow as tf"
   ]
  },
  {
   "cell_type": "code",
   "execution_count": 21,
   "metadata": {},
   "outputs": [],
   "source": [
    "cnn = tf.keras.models.Sequential()\n",
    "cnn.add(tf.keras.layers.Conv2D(input_shape=[28,28,1],kernel_size=3,filters=32,activation='relu'))\n",
    "cnn.add(tf.keras.layers.MaxPool2D(pool_size=2,strides=2))\n",
    "cnn.add(tf.keras.layers.Conv2D(kernel_size=3,filters=32,activation='relu'))\n",
    "cnn.add(tf.keras.layers.MaxPool2D(pool_size=2,strides=2))\n",
    "cnn.add(tf.keras.layers.Flatten())\n",
    "cnn.add(tf.keras.layers.Dense(units=128,activation='relu'))\n",
    "cnn.add(tf.keras.layers.Dense(units=10,activation='softmax'))"
   ]
  },
  {
   "cell_type": "code",
   "execution_count": 22,
   "metadata": {},
   "outputs": [],
   "source": [
    "cnn.compile(optimizer='adam',loss='categorical_crossentropy',metrics=['accuracy'])"
   ]
  },
  {
   "cell_type": "code",
   "execution_count": 23,
   "metadata": {},
   "outputs": [
    {
     "name": "stdout",
     "output_type": "stream",
     "text": [
      "Model: \"sequential\"\n",
      "_________________________________________________________________\n",
      "Layer (type)                 Output Shape              Param #   \n",
      "=================================================================\n",
      "conv2d (Conv2D)              (None, 26, 26, 32)        320       \n",
      "_________________________________________________________________\n",
      "max_pooling2d (MaxPooling2D) (None, 13, 13, 32)        0         \n",
      "_________________________________________________________________\n",
      "conv2d_1 (Conv2D)            (None, 11, 11, 32)        9248      \n",
      "_________________________________________________________________\n",
      "max_pooling2d_1 (MaxPooling2 (None, 5, 5, 32)          0         \n",
      "_________________________________________________________________\n",
      "flatten (Flatten)            (None, 800)               0         \n",
      "_________________________________________________________________\n",
      "dense (Dense)                (None, 128)               102528    \n",
      "_________________________________________________________________\n",
      "dense_1 (Dense)              (None, 10)                1290      \n",
      "=================================================================\n",
      "Total params: 113,386\n",
      "Trainable params: 113,386\n",
      "Non-trainable params: 0\n",
      "_________________________________________________________________\n"
     ]
    }
   ],
   "source": [
    "cnn.summary()"
   ]
  },
  {
   "cell_type": "code",
   "execution_count": 24,
   "metadata": {},
   "outputs": [],
   "source": [
    "datagen = tf.keras.preprocessing.image.ImageDataGenerator(rotation_range=10, width_shift_range=0.1, \n",
    "                                                            shear_range=10, height_shift_range=0.1, zoom_range=0.2)\n",
    "datagen.fit(x_train)"
   ]
  },
  {
   "cell_type": "code",
   "execution_count": 25,
   "metadata": {},
   "outputs": [],
   "source": [
    "x_train, x_val, y_train, y_val = train_test_split(x_train, y_train, test_size = 0.1, random_state=0)"
   ]
  },
  {
   "cell_type": "markdown",
   "metadata": {},
   "source": [
    "I chose to split the train set in two parts : a small fraction (10%) became the validation set which the model is evaluated and the rest (90%) is used to train the model."
   ]
  },
  {
   "cell_type": "code",
   "execution_count": 27,
   "metadata": {},
   "outputs": [
    {
     "name": "stdout",
     "output_type": "stream",
     "text": [
      "Epoch 1/5\n",
      "1379/1378 [==============================] - 40s 29ms/step - loss: 0.0809 - accuracy: 0.9749 - val_loss: 0.0393 - val_accuracy: 0.9876\n",
      "Epoch 2/5\n",
      "1379/1378 [==============================] - 40s 29ms/step - loss: 0.0714 - accuracy: 0.9771 - val_loss: 0.0339 - val_accuracy: 0.9886\n",
      "Epoch 3/5\n",
      "1379/1378 [==============================] - 40s 29ms/step - loss: 0.0655 - accuracy: 0.9796 - val_loss: 0.0320 - val_accuracy: 0.9888\n",
      "Epoch 4/5\n",
      "1379/1378 [==============================] - 40s 29ms/step - loss: 0.0619 - accuracy: 0.9812 - val_loss: 0.0296 - val_accuracy: 0.9908\n",
      "Epoch 5/5\n",
      "1379/1378 [==============================] - 39s 29ms/step - loss: 0.0584 - accuracy: 0.9817 - val_loss: 0.0348 - val_accuracy: 0.9888\n"
     ]
    }
   ],
   "source": [
    "history=cnn.fit(datagen.flow(x_train, y_train, batch_size=32,shuffle=True),validation_data = (x_val,y_val),\n",
    "                    steps_per_epoch=len(x_train) /32, epochs=5,verbose=1)"
   ]
  },
  {
   "cell_type": "markdown",
   "metadata": {},
   "source": [
    "## Evaluating the model performance"
   ]
  },
  {
   "cell_type": "markdown",
   "metadata": {},
   "source": [
    "### Plotting the loss and accuracy curves for training and validation"
   ]
  },
  {
   "cell_type": "code",
   "execution_count": 28,
   "metadata": {},
   "outputs": [
    {
     "data": {
      "image/png": "[encoded data removed]",
      "text/plain": [
       "<Figure size 432x288 with 2 Axes>"
      ]
     },
     "metadata": {
      "needs_background": "light"
     },
     "output_type": "display_data"
    }
   ],
   "source": [
    "fig, ax = plt.subplots(2,1)\n",
    "ax[0].plot(history.history['loss'], color='b', label=\"Training loss\")\n",
    "ax[0].plot(history.history['val_loss'], color='r', label=\"validation loss\",axes =ax[0])\n",
    "legend = ax[0].legend(loc='best', shadow=True)\n",
    "\n",
    "ax[1].plot(history.history['accuracy'], color='b', label=\"Training accuracy\")\n",
    "ax[1].plot(history.history['val_accuracy'], color='r',label=\"Validation accuracy\")\n",
    "legend = ax[1].legend(loc='best', shadow=True)"
   ]
  },
  {
   "cell_type": "markdown",
   "metadata": {},
   "source": [
    "### Plotting the Confusion Matrix"
   ]
  },
  {
   "cell_type": "code",
   "execution_count": 30,
   "metadata": {},
   "outputs": [
    {
     "data": {
      "image/png": "[encoded data removed]",
      "text/plain": [
       "<Figure size 432x288 with 1 Axes>"
      ]
     },
     "metadata": {
      "needs_background": "light"
     },
     "output_type": "display_data"
    }
   ],
   "source": [
    "import itertools\n",
    "from sklearn.metrics import confusion_matrix\n",
    "\n",
    "def plot_confusion_matrix(cm, classes, title='Confusion matrix', cmap=plt.cm.Blues):\n",
    "    \"\"\"\n",
    "    This function prints and plots the confusion matrix.\n",
    "    Normalization can be applied by setting `normalize=True`.\n",
    "    \"\"\"\n",
    "    plt.imshow(cm, cmap=cmap)\n",
    "    plt.title(title)\n",
    "    tick_marks = np.arange(len(classes))\n",
    "    plt.xticks(tick_marks, classes)\n",
    "    plt.yticks(tick_marks, classes)\n",
    "\n",
    "\n",
    "    threshold = cm.max() / 2.\n",
    "    for i, j in itertools.product(range(cm.shape[0]), range(cm.shape[1])):\n",
    "        plt.text(j, i, cm[i, j],\n",
    "                 horizontalalignment=\"center\",\n",
    "                 color=\"white\" if cm[i, j] > threshold else \"black\")\n",
    "\n",
    "    plt.ylabel('True label')\n",
    "    plt.xlabel('Predicted label')\n",
    "\n",
    "# Predict the values from the validation dataset\n",
    "y_pred = cnn.predict(x_val)\n",
    "# Convert predictions classes to one hot vectors \n",
    "y_pred_classes = np.argmax(y_pred,axis = 1) \n",
    "# Convert validation observations to one hot vectors\n",
    "y_true = np.argmax(y_val,axis = 1) \n",
    "# plot the confusion matrix\n",
    "plot_confusion_matrix(confusion_matrix(y_true, y_pred_classes), classes = range(10)) "
   ]
  },
  {
   "cell_type": "markdown",
   "metadata": {},
   "source": [
    "## Predicting the test data"
   ]
  },
  {
   "cell_type": "code",
   "execution_count": 31,
   "metadata": {},
   "outputs": [
    {
     "data": {
      "text/plain": [
       "array([[1.2845558e-13, 2.1117799e-09, 4.1995493e-10, ..., 2.6229156e-08,\n",
       "        2.8402105e-12, 8.7359920e-12],\n",
       "       [9.9999106e-01, 3.8401948e-10, 2.6181815e-06, ..., 3.6609535e-09,\n",
       "        4.5396337e-08, 5.7896532e-06],\n",
       "       [3.4582333e-03, 7.8784253e-12, 3.0162828e-06, ..., 1.4090355e-06,\n",
       "        1.2254738e-04, 9.9609143e-01],\n",
       "       ...,\n",
       "       [9.0205339e-07, 1.8737594e-12, 1.4658684e-07, ..., 1.1404173e-14,\n",
       "        2.9169991e-07, 7.1687157e-12],\n",
       "       [1.2393549e-08, 1.7676459e-10, 8.5070591e-09, ..., 2.3830582e-15,\n",
       "        6.6663134e-08, 9.6878538e-12],\n",
       "       [4.8626529e-09, 4.1477009e-11, 1.0000000e+00, ..., 5.2141520e-08,\n",
       "        6.8123986e-09, 3.9644781e-12]], dtype=float32)"
      ]
     },
     "execution_count": 31,
     "metadata": {},
     "output_type": "execute_result"
    }
   ],
   "source": [
    "cnn.predict(x_test)"
   ]
  },
  {
   "cell_type": "code",
   "execution_count": 32,
   "metadata": {},
   "outputs": [
    {
     "data": {
      "text/html": [
       "<div>\n",
       "<style scoped>\n",
       "    .dataframe tbody tr th:only-of-type {\n",
       "        vertical-align: middle;\n",
       "    }\n",
       "\n",
       "    .dataframe tbody tr th {\n",
       "        vertical-align: top;\n",
       "    }\n",
       "\n",
       "    .dataframe thead th {\n",
       "        text-align: right;\n",
       "    }\n",
       "</style>\n",
       "<table border=\"1\" class=\"dataframe\">\n",
       "  <thead>\n",
       "    <tr style=\"text-align: right;\">\n",
       "      <th></th>\n",
       "      <th>0</th>\n",
       "      <th>1</th>\n",
       "      <th>2</th>\n",
       "      <th>3</th>\n",
       "      <th>4</th>\n",
       "      <th>5</th>\n",
       "      <th>6</th>\n",
       "      <th>7</th>\n",
       "      <th>8</th>\n",
       "      <th>9</th>\n",
       "    </tr>\n",
       "  </thead>\n",
       "  <tbody>\n",
       "    <tr>\n",
       "      <th>0</th>\n",
       "      <td>1.284556e-13</td>\n",
       "      <td>2.111780e-09</td>\n",
       "      <td>4.199549e-10</td>\n",
       "      <td>2.337315e-15</td>\n",
       "      <td>1.000000e+00</td>\n",
       "      <td>3.960295e-14</td>\n",
       "      <td>1.604148e-09</td>\n",
       "      <td>2.622916e-08</td>\n",
       "      <td>2.840210e-12</td>\n",
       "      <td>8.735992e-12</td>\n",
       "    </tr>\n",
       "    <tr>\n",
       "      <th>1</th>\n",
       "      <td>9.999911e-01</td>\n",
       "      <td>3.840195e-10</td>\n",
       "      <td>2.618181e-06</td>\n",
       "      <td>1.566472e-12</td>\n",
       "      <td>5.344144e-07</td>\n",
       "      <td>2.054142e-12</td>\n",
       "      <td>1.066198e-08</td>\n",
       "      <td>3.660954e-09</td>\n",
       "      <td>4.539634e-08</td>\n",
       "      <td>5.789653e-06</td>\n",
       "    </tr>\n",
       "    <tr>\n",
       "      <th>2</th>\n",
       "      <td>3.458233e-03</td>\n",
       "      <td>7.878425e-12</td>\n",
       "      <td>3.016283e-06</td>\n",
       "      <td>1.530086e-06</td>\n",
       "      <td>3.177619e-04</td>\n",
       "      <td>3.683930e-06</td>\n",
       "      <td>3.230167e-07</td>\n",
       "      <td>1.409035e-06</td>\n",
       "      <td>1.225474e-04</td>\n",
       "      <td>9.960914e-01</td>\n",
       "    </tr>\n",
       "    <tr>\n",
       "      <th>3</th>\n",
       "      <td>1.536141e-05</td>\n",
       "      <td>1.638366e-05</td>\n",
       "      <td>1.772766e-03</td>\n",
       "      <td>5.209249e-04</td>\n",
       "      <td>1.912937e-04</td>\n",
       "      <td>1.047537e-06</td>\n",
       "      <td>2.817545e-08</td>\n",
       "      <td>9.974021e-01</td>\n",
       "      <td>2.431159e-05</td>\n",
       "      <td>5.587954e-05</td>\n",
       "    </tr>\n",
       "    <tr>\n",
       "      <th>4</th>\n",
       "      <td>1.624189e-11</td>\n",
       "      <td>2.208664e-17</td>\n",
       "      <td>5.232144e-12</td>\n",
       "      <td>8.429592e-11</td>\n",
       "      <td>3.108958e-06</td>\n",
       "      <td>1.778768e-09</td>\n",
       "      <td>3.386801e-17</td>\n",
       "      <td>5.151823e-08</td>\n",
       "      <td>6.172830e-07</td>\n",
       "      <td>9.999962e-01</td>\n",
       "    </tr>\n",
       "    <tr>\n",
       "      <th>...</th>\n",
       "      <td>...</td>\n",
       "      <td>...</td>\n",
       "      <td>...</td>\n",
       "      <td>...</td>\n",
       "      <td>...</td>\n",
       "      <td>...</td>\n",
       "      <td>...</td>\n",
       "      <td>...</td>\n",
       "      <td>...</td>\n",
       "      <td>...</td>\n",
       "    </tr>\n",
       "    <tr>\n",
       "      <th>20995</th>\n",
       "      <td>8.284184e-04</td>\n",
       "      <td>1.414847e-04</td>\n",
       "      <td>1.718545e-05</td>\n",
       "      <td>8.197526e-05</td>\n",
       "      <td>2.523340e-02</td>\n",
       "      <td>2.153362e-06</td>\n",
       "      <td>4.709803e-06</td>\n",
       "      <td>3.811875e-02</td>\n",
       "      <td>6.736041e-03</td>\n",
       "      <td>9.288359e-01</td>\n",
       "    </tr>\n",
       "    <tr>\n",
       "      <th>20996</th>\n",
       "      <td>2.573427e-10</td>\n",
       "      <td>6.462602e-10</td>\n",
       "      <td>9.999996e-01</td>\n",
       "      <td>2.245831e-08</td>\n",
       "      <td>4.003550e-12</td>\n",
       "      <td>7.882465e-13</td>\n",
       "      <td>1.123386e-12</td>\n",
       "      <td>1.841228e-07</td>\n",
       "      <td>7.024051e-08</td>\n",
       "      <td>1.617024e-10</td>\n",
       "    </tr>\n",
       "    <tr>\n",
       "      <th>20997</th>\n",
       "      <td>9.020534e-07</td>\n",
       "      <td>1.873759e-12</td>\n",
       "      <td>1.465868e-07</td>\n",
       "      <td>2.081617e-12</td>\n",
       "      <td>8.374024e-10</td>\n",
       "      <td>2.205672e-06</td>\n",
       "      <td>9.999965e-01</td>\n",
       "      <td>1.140417e-14</td>\n",
       "      <td>2.916999e-07</td>\n",
       "      <td>7.168716e-12</td>\n",
       "    </tr>\n",
       "    <tr>\n",
       "      <th>20998</th>\n",
       "      <td>1.239355e-08</td>\n",
       "      <td>1.767646e-10</td>\n",
       "      <td>8.507059e-09</td>\n",
       "      <td>1.866230e-14</td>\n",
       "      <td>1.567563e-09</td>\n",
       "      <td>5.931843e-07</td>\n",
       "      <td>9.999993e-01</td>\n",
       "      <td>2.383058e-15</td>\n",
       "      <td>6.666313e-08</td>\n",
       "      <td>9.687854e-12</td>\n",
       "    </tr>\n",
       "    <tr>\n",
       "      <th>20999</th>\n",
       "      <td>4.862653e-09</td>\n",
       "      <td>4.147701e-11</td>\n",
       "      <td>1.000000e+00</td>\n",
       "      <td>1.024728e-08</td>\n",
       "      <td>1.723149e-11</td>\n",
       "      <td>1.481660e-12</td>\n",
       "      <td>3.733961e-17</td>\n",
       "      <td>5.214152e-08</td>\n",
       "      <td>6.812399e-09</td>\n",
       "      <td>3.964478e-12</td>\n",
       "    </tr>\n",
       "  </tbody>\n",
       "</table>\n",
       "<p>21000 rows × 10 columns</p>\n",
       "</div>"
      ],
      "text/plain": [
       "                  0             1             2             3             4  \\\n",
       "0      1.284556e-13  2.111780e-09  4.199549e-10  2.337315e-15  1.000000e+00   \n",
       "1      9.999911e-01  3.840195e-10  2.618181e-06  1.566472e-12  5.344144e-07   \n",
       "2      3.458233e-03  7.878425e-12  3.016283e-06  1.530086e-06  3.177619e-04   \n",
       "3      1.536141e-05  1.638366e-05  1.772766e-03  5.209249e-04  1.912937e-04   \n",
       "4      1.624189e-11  2.208664e-17  5.232144e-12  8.429592e-11  3.108958e-06   \n",
       "...             ...           ...           ...           ...           ...   \n",
       "20995  8.284184e-04  1.414847e-04  1.718545e-05  8.197526e-05  2.523340e-02   \n",
       "20996  2.573427e-10  6.462602e-10  9.999996e-01  2.245831e-08  4.003550e-12   \n",
       "20997  9.020534e-07  1.873759e-12  1.465868e-07  2.081617e-12  8.374024e-10   \n",
       "20998  1.239355e-08  1.767646e-10  8.507059e-09  1.866230e-14  1.567563e-09   \n",
       "20999  4.862653e-09  4.147701e-11  1.000000e+00  1.024728e-08  1.723149e-11   \n",
       "\n",
       "                  5             6             7             8             9  \n",
       "0      3.960295e-14  1.604148e-09  2.622916e-08  2.840210e-12  8.735992e-12  \n",
       "1      2.054142e-12  1.066198e-08  3.660954e-09  4.539634e-08  5.789653e-06  \n",
       "2      3.683930e-06  3.230167e-07  1.409035e-06  1.225474e-04  9.960914e-01  \n",
       "3      1.047537e-06  2.817545e-08  9.974021e-01  2.431159e-05  5.587954e-05  \n",
       "4      1.778768e-09  3.386801e-17  5.151823e-08  6.172830e-07  9.999962e-01  \n",
       "...             ...           ...           ...           ...           ...  \n",
       "20995  2.153362e-06  4.709803e-06  3.811875e-02  6.736041e-03  9.288359e-01  \n",
       "20996  7.882465e-13  1.123386e-12  1.841228e-07  7.024051e-08  1.617024e-10  \n",
       "20997  2.205672e-06  9.999965e-01  1.140417e-14  2.916999e-07  7.168716e-12  \n",
       "20998  5.931843e-07  9.999993e-01  2.383058e-15  6.666313e-08  9.687854e-12  \n",
       "20999  1.481660e-12  3.733961e-17  5.214152e-08  6.812399e-09  3.964478e-12  \n",
       "\n",
       "[21000 rows x 10 columns]"
      ]
     },
     "execution_count": 32,
     "metadata": {},
     "output_type": "execute_result"
    }
   ],
   "source": [
    "pd.DataFrame(cnn.predict(x_test))"
   ]
  },
  {
   "cell_type": "code",
   "execution_count": 33,
   "metadata": {},
   "outputs": [
    {
     "name": "stderr",
     "output_type": "stream",
     "text": [
      "21000it [00:06, 3488.70it/s]\n"
     ]
    }
   ],
   "source": [
    "# loading training images\n",
    "test_res = []\n",
    "for j,i in tqdm(pd.DataFrame(cnn.predict(x_test)).iterrows()):\n",
    "    test_res.append(i.argmax())       "
   ]
  },
  {
   "cell_type": "code",
   "execution_count": 34,
   "metadata": {},
   "outputs": [],
   "source": [
    "test['label']=test_res"
   ]
  },
  {
   "cell_type": "code",
   "execution_count": 35,
   "metadata": {},
   "outputs": [
    {
     "data": {
      "text/html": [
       "<div>\n",
       "<style scoped>\n",
       "    .dataframe tbody tr th:only-of-type {\n",
       "        vertical-align: middle;\n",
       "    }\n",
       "\n",
       "    .dataframe tbody tr th {\n",
       "        vertical-align: top;\n",
       "    }\n",
       "\n",
       "    .dataframe thead th {\n",
       "        text-align: right;\n",
       "    }\n",
       "</style>\n",
       "<table border=\"1\" class=\"dataframe\">\n",
       "  <thead>\n",
       "    <tr style=\"text-align: right;\">\n",
       "      <th></th>\n",
       "      <th>filename</th>\n",
       "      <th>label</th>\n",
       "    </tr>\n",
       "  </thead>\n",
       "  <tbody>\n",
       "    <tr>\n",
       "      <th>0</th>\n",
       "      <td>49000.png</td>\n",
       "      <td>4</td>\n",
       "    </tr>\n",
       "    <tr>\n",
       "      <th>1</th>\n",
       "      <td>49001.png</td>\n",
       "      <td>0</td>\n",
       "    </tr>\n",
       "    <tr>\n",
       "      <th>2</th>\n",
       "      <td>49002.png</td>\n",
       "      <td>9</td>\n",
       "    </tr>\n",
       "    <tr>\n",
       "      <th>3</th>\n",
       "      <td>49003.png</td>\n",
       "      <td>7</td>\n",
       "    </tr>\n",
       "    <tr>\n",
       "      <th>4</th>\n",
       "      <td>49004.png</td>\n",
       "      <td>9</td>\n",
       "    </tr>\n",
       "    <tr>\n",
       "      <th>...</th>\n",
       "      <td>...</td>\n",
       "      <td>...</td>\n",
       "    </tr>\n",
       "    <tr>\n",
       "      <th>20995</th>\n",
       "      <td>69995.png</td>\n",
       "      <td>9</td>\n",
       "    </tr>\n",
       "    <tr>\n",
       "      <th>20996</th>\n",
       "      <td>69996.png</td>\n",
       "      <td>2</td>\n",
       "    </tr>\n",
       "    <tr>\n",
       "      <th>20997</th>\n",
       "      <td>69997.png</td>\n",
       "      <td>6</td>\n",
       "    </tr>\n",
       "    <tr>\n",
       "      <th>20998</th>\n",
       "      <td>69998.png</td>\n",
       "      <td>6</td>\n",
       "    </tr>\n",
       "    <tr>\n",
       "      <th>20999</th>\n",
       "      <td>69999.png</td>\n",
       "      <td>2</td>\n",
       "    </tr>\n",
       "  </tbody>\n",
       "</table>\n",
       "<p>21000 rows × 2 columns</p>\n",
       "</div>"
      ],
      "text/plain": [
       "        filename  label\n",
       "0      49000.png      4\n",
       "1      49001.png      0\n",
       "2      49002.png      9\n",
       "3      49003.png      7\n",
       "4      49004.png      9\n",
       "...          ...    ...\n",
       "20995  69995.png      9\n",
       "20996  69996.png      2\n",
       "20997  69997.png      6\n",
       "20998  69998.png      6\n",
       "20999  69999.png      2\n",
       "\n",
       "[21000 rows x 2 columns]"
      ]
     },
     "execution_count": 35,
     "metadata": {},
     "output_type": "execute_result"
    }
   ],
   "source": [
    "test"
   ]
  },
  {
   "cell_type": "code",
   "execution_count": 36,
   "metadata": {},
   "outputs": [],
   "source": [
    "pd.DataFrame(test).to_csv('C:/Users/TheSurpriseBox/Desktop/MNIST/test_MNIST.csv', index=False)"
   ]
  },
  {
   "cell_type": "code",
   "execution_count": 37,
   "metadata": {},
   "outputs": [],
   "source": [
    "cnn.save(\"model_mnist_digit.h5\")"
   ]
  }
 ],
 "metadata": {
  "kernelspec": {
   "display_name": "Python 3",
   "language": "python",
   "name": "python3"
  },
  "language_info": {
   "codemirror_mode": {
    "name": "ipython",
    "version": 3
   },
   "file_extension": ".py",
   "mimetype": "text/x-python",
   "name": "python",
   "nbconvert_exporter": "python",
   "pygments_lexer": "ipython3",
   "version": "3.8.6"
  },
  "toc": {
   "base_numbering": 1,
   "nav_menu": {},
   "number_sections": true,
   "sideBar": true,
   "skip_h1_title": false,
   "title_cell": "Table of Contents",
   "title_sidebar": "Contents",
   "toc_cell": true,
   "toc_position": {},
   "toc_section_display": true,
   "toc_window_display": false
  }
 },
 "nbformat": 4,
 "nbformat_minor": 4
}
